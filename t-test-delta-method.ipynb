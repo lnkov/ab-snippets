{
 "cells": [
  {
   "cell_type": "code",
   "execution_count": 1,
   "id": "emotional-distinction",
   "metadata": {},
   "outputs": [],
   "source": [
    "import numpy as np\n",
    "from scipy.stats.distributions import chi2, t\n",
    "from scipy.stats import chisquare, ttest_ind"
   ]
  },
  {
   "cell_type": "markdown",
   "id": "boring-presence",
   "metadata": {},
   "source": [
    "### T-test для обычных метрик (средних)"
   ]
  },
  {
   "cell_type": "code",
   "execution_count": 2,
   "id": "arabic-finland",
   "metadata": {},
   "outputs": [],
   "source": [
    "SIZE = 5000\n",
    "\n",
    "A_SAMP = np.random.poisson(lam=1, size=SIZE)\n",
    "B_SAMP = np.random.poisson(lam=1.05, size=SIZE)"
   ]
  },
  {
   "cell_type": "code",
   "execution_count": 3,
   "id": "periodic-cosmetic",
   "metadata": {},
   "outputs": [],
   "source": [
    "def covar(samp1, samp2):\n",
    "    n = samp1.size\n",
    "    assert n == samp2.size\n",
    "    sum_square = samp1.sum() * samp2.sum()\n",
    "    square_sum = (samp1 * samp2).sum()\n",
    "    return (square_sum - sum_square / n) / (n - 1)\n",
    "\n",
    "\n",
    "def var(samp):\n",
    "    return covar(samp, samp)"
   ]
  },
  {
   "cell_type": "code",
   "execution_count": 4,
   "id": "thorough-bundle",
   "metadata": {},
   "outputs": [],
   "source": [
    "a_mean = A_SAMP.mean()\n",
    "b_mean = B_SAMP.mean()\n",
    "\n",
    "a_mean_var = var(A_SAMP) / SIZE\n",
    "b_mean_var = var(B_SAMP) / SIZE\n",
    "pooled_mean_var = a_mean_var + b_mean_var\n",
    "\n",
    "# Считаем статистику и p-value\n",
    "t_stat = (a_mean - b_mean) / np.sqrt(pooled_mean_var)\n",
    "df = pooled_mean_var ** 2 * (SIZE - 1) / (a_mean_var ** 2 + b_mean_var ** 2)\n",
    "t_pval = t.sf(np.abs(t_stat), df=df) * 2  # Умножаем на 2, потому гипотеза обычно двусторонняя"
   ]
  },
  {
   "cell_type": "code",
   "execution_count": 5,
   "id": "collaborative-protocol",
   "metadata": {},
   "outputs": [],
   "source": [
    "# То же самое, только с помощью готовой функции\n",
    "test_result = ttest_ind(A_SAMP, B_SAMP, equal_var=False)"
   ]
  },
  {
   "cell_type": "code",
   "execution_count": 6,
   "id": "creative-transparency",
   "metadata": {},
   "outputs": [
    {
     "name": "stdout",
     "output_type": "stream",
     "text": [
      "-3.0710005671041465 0.0021391572454784635\n",
      "-3.0710005671041465 0.0021391572454784675\n"
     ]
    }
   ],
   "source": [
    "# Проверяем, что действительно то же самое\n",
    "print(t_stat, t_pval)\n",
    "print(test_result.statistic, test_result.pvalue)"
   ]
  },
  {
   "cell_type": "markdown",
   "id": "composite-transcript",
   "metadata": {},
   "source": [
    "### T-test для Ratio-метрик"
   ]
  },
  {
   "cell_type": "markdown",
   "id": "right-maryland",
   "metadata": {},
   "source": [
    "Пример ratio-метрики: средний чек = сумма денег во всех чеках / количество чеков.\n",
    "\n",
    "Почему это ratio? Потому что один пользователь может сделать много чеков.\n",
    "\n",
    "Почему нельзя просто сделать выборку по чекам? Потому что выборка должна состоять из наблюдений по пользователям — одна строка на пользователя. Иначе в выборке будет много зависимостей и оценка дисперсии будет занижена ⇒ много ложных прокрасов."
   ]
  },
  {
   "cell_type": "code",
   "execution_count": 7,
   "id": "graduate-arbitration",
   "metadata": {},
   "outputs": [],
   "source": [
    "def generate_ratio_sample(mean, size):\n",
    "    lam = np.random.randint(1, 100)\n",
    "    num = np.random.poisson(lam=lam, size=size)\n",
    "    den = np.random.poisson(lam=lam/mean, size=size)\n",
    "    return num, den"
   ]
  },
  {
   "cell_type": "code",
   "execution_count": 8,
   "id": "actual-nevada",
   "metadata": {},
   "outputs": [],
   "source": [
    "SIZE = 5000\n",
    "A_NUM, A_DEN = generate_ratio_sample(1, SIZE)\n",
    "B_NUM, B_DEN = generate_ratio_sample(1.02, SIZE)"
   ]
  },
  {
   "cell_type": "code",
   "execution_count": 9,
   "id": "strategic-strain",
   "metadata": {},
   "outputs": [],
   "source": [
    "def var_ratio(num, den):\n",
    "    num_mean = num.mean()\n",
    "    den_mean = den.mean()\n",
    "    num_var = var(num)\n",
    "    den_var = var(den)\n",
    "    num_den_covar = covar(num, den)\n",
    "    return (\n",
    "          1                 / den_mean ** 2 * num_var\n",
    "        - 2 * num_mean      / den_mean ** 3 * num_den_covar\n",
    "        +     num_mean ** 2 / den_mean ** 4 * den_var\n",
    "    )"
   ]
  },
  {
   "cell_type": "code",
   "execution_count": 10,
   "id": "fifth-fitting",
   "metadata": {},
   "outputs": [
    {
     "name": "stdout",
     "output_type": "stream",
     "text": [
      "-5.574075900230694 2.555139678738598e-08\n"
     ]
    }
   ],
   "source": [
    "a_mean = A_NUM.sum() / A_DEN.sum()\n",
    "b_mean = B_NUM.sum() / B_DEN.sum()\n",
    "\n",
    "a_mean_var = var_ratio(A_NUM, A_DEN) / SIZE\n",
    "b_mean_var = var_ratio(B_NUM, B_DEN) / SIZE\n",
    "pooled_mean_var = a_mean_var + b_mean_var\n",
    "\n",
    "# Считаем статистику и p-value\n",
    "t_stat = (a_mean - b_mean) / np.sqrt(pooled_mean_var)\n",
    "df = pooled_mean_var ** 2 * (SIZE - 1) / (a_mean_var ** 2 + b_mean_var ** 2)\n",
    "t_pval = t.sf(np.abs(t_stat), df=df) * 2  # Умножаем на 2, потому гипотеза обычно двусторонняя\n",
    "\n",
    "print(t_stat, t_pval)\n",
    "\n",
    "# В scipy нет готовой функции для такого расчета. Валидировать надо с помощью bootstrap"
   ]
  }
 ],
 "metadata": {
  "kernelspec": {
   "display_name": "Python 3 (ipykernel)",
   "language": "python",
   "name": "python3"
  },
  "language_info": {
   "codemirror_mode": {
    "name": "ipython",
    "version": 3
   },
   "file_extension": ".py",
   "mimetype": "text/x-python",
   "name": "python",
   "nbconvert_exporter": "python",
   "pygments_lexer": "ipython3",
   "version": "3.11.1"
  }
 },
 "nbformat": 4,
 "nbformat_minor": 5
}
